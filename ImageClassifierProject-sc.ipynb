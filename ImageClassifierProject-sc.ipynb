{
 "cells": [
  {
   "cell_type": "markdown",
   "metadata": {},
   "source": [
    "# Developing an AI application\n",
    "\n",
    "Going forward, AI algorithms will be incorporated into more and more everyday applications. For example, you might want to include an image classifier in a smart phone app. To do this, you'd use a deep learning model trained on hundreds of thousands of images as part of the overall application architecture. A large part of software development in the future will be using these types of models as common parts of applications. \n",
    "\n",
    "In this project, you'll train an image classifier to recognize different species of flowers. You can imagine using something like this in a phone app that tells you the name of the flower your camera is looking at. In practice you'd train this classifier, then export it for use in your application. We'll be using [this dataset](http://www.robots.ox.ac.uk/~vgg/data/flowers/102/index.html) of 102 flower categories, you can see a few examples below. \n",
    "\n",
    "<img src='assets/Flowers.png' width=500px>\n",
    "\n",
    "The project is broken down into multiple steps:\n",
    "\n",
    "* Load and preprocess the image dataset\n",
    "* Train the image classifier on your dataset\n",
    "* Use the trained classifier to predict image content\n",
    "\n",
    "We'll lead you through each part which you'll implement in Python.\n",
    "\n",
    "When you've completed this project, you'll have an application that can be trained on any set of labeled images. Here your network will be learning about flowers and end up as a command line application. But, what you do with your new skills depends on your imagination and effort in building a dataset. For example, imagine an app where you take a picture of a car, it tells you what the make and model is, then looks up information about it. Go build your own dataset and make something new.\n",
    "\n",
    "First up is importing the packages you'll need. It's good practice to keep all the imports at the beginning of your code. As you work through this notebook and find you need to import a package, make sure to add the import up here."
   ]
  },
  {
   "cell_type": "code",
   "execution_count": 1,
   "metadata": {},
   "outputs": [],
   "source": [
    "# Imports here\n",
    "import torch\n",
    "from torch import nn, optim\n",
    "import torch.nn.functional as F\n",
    "import matplotlib.pyplot as plt\n",
    "import torchvision\n",
    "from torchvision import datasets, transforms\n",
    "from collections import OrderedDict"
   ]
  },
  {
   "cell_type": "markdown",
   "metadata": {},
   "source": [
    "## Load the data\n",
    "\n",
    "Here you'll use `torchvision` to load the data ([documentation](http://pytorch.org/docs/0.3.0/torchvision/index.html)). The data should be included alongside this notebook, otherwise you can [download it here](https://s3.amazonaws.com/content.udacity-data.com/nd089/flower_data.tar.gz). The dataset is split into three parts, training, validation, and testing. For the training, you'll want to apply transformations such as random scaling, cropping, and flipping. This will help the network generalize leading to better performance. You'll also need to make sure the input data is resized to 224x224 pixels as required by the pre-trained networks.\n",
    "\n",
    "The validation and testing sets are used to measure the model's performance on data it hasn't seen yet. For this you don't want any scaling or rotation transformations, but you'll need to resize then crop the images to the appropriate size.\n",
    "\n",
    "The pre-trained networks you'll use were trained on the ImageNet dataset where each color channel was normalized separately. For all three sets you'll need to normalize the means and standard deviations of the images to what the network expects. For the means, it's `[0.485, 0.456, 0.406]` and for the standard deviations `[0.229, 0.224, 0.225]`, calculated from the ImageNet images.  These values will shift each color channel to be centered at 0 and range from -1 to 1.\n",
    " "
   ]
  },
  {
   "cell_type": "code",
   "execution_count": 2,
   "metadata": {},
   "outputs": [],
   "source": [
    "data_dir = 'flowers'\n",
    "train_dir = data_dir + '/train'\n",
    "valid_dir = data_dir + '/valid'\n",
    "test_dir = data_dir + '/test'"
   ]
  },
  {
   "cell_type": "code",
   "execution_count": 3,
   "metadata": {},
   "outputs": [],
   "source": [
    "# TODO: Define your transforms for the training, validation, and testing sets\n",
    "train_transforms = transforms.Compose([transforms.RandomRotation(30),\n",
    "                                     transforms.CenterCrop(224),\n",
    "                                    transforms.RandomHorizontalFlip(),\n",
    "                                     transforms.ToTensor(),\n",
    "                                     transforms.Normalize([0.485, 0.456, 0.406],[0.229, 0.224, 0.225])])\n",
    "\n",
    "test_transforms = transforms.Compose([transforms.Resize(256),\n",
    "                                      transforms.CenterCrop(224),\n",
    "                                     transforms.ToTensor(),\n",
    "                                     transforms.Normalize([0.485, 0.456, 0.406],[0.229, 0.224, 0.225])])\n",
    "\n",
    "# TODO: Load the datasets with ImageFolder\n",
    "train_image_datasets = datasets.ImageFolder(train_dir,transform=train_transforms)\n",
    "test_image_datasets=datasets.ImageFolder(test_dir, transform=test_transforms)\n",
    "valid_image_datasets = datasets.ImageFolder(valid_dir, transform=test_transforms)\n",
    "\n",
    "# TODO: Using the image datasets and the trainforms, define the dataloaders\n",
    "train_dataloaders = torch.utils.data.DataLoader(train_image_datasets, batch_size=64, shuffle=True)\n",
    "test_dataloaders = torch.utils.data.DataLoader(test_image_datasets, batch_size=32)\n",
    "valid_dataloaders = torch.utils.data.DataLoader(valid_image_datasets, batch_size=32)"
   ]
  },
  {
   "cell_type": "markdown",
   "metadata": {},
   "source": [
    "### Label mapping\n",
    "\n",
    "You'll also need to load in a mapping from category label to category name. You can find this in the file `cat_to_name.json`. It's a JSON object which you can read in with the [`json` module](https://docs.python.org/2/library/json.html). This will give you a dictionary mapping the integer encoded categories to the actual names of the flowers."
   ]
  },
  {
   "cell_type": "code",
   "execution_count": 4,
   "metadata": {},
   "outputs": [],
   "source": [
    "import json\n",
    "\n",
    "with open('cat_to_name.json', 'r') as f:\n",
    "    cat_to_name = json.load(f)"
   ]
  },
  {
   "cell_type": "code",
   "execution_count": 5,
   "metadata": {},
   "outputs": [
    {
     "name": "stdout",
     "output_type": "stream",
     "text": [
      "{'21': 'fire lily', '3': 'canterbury bells', '45': 'bolero deep blue', '1': 'pink primrose', '34': 'mexican aster', '27': 'prince of wales feathers', '7': 'moon orchid', '16': 'globe-flower', '25': 'grape hyacinth', '26': 'corn poppy', '79': 'toad lily', '39': 'siam tulip', '24': 'red ginger', '67': 'spring crocus', '35': 'alpine sea holly', '32': 'garden phlox', '10': 'globe thistle', '6': 'tiger lily', '93': 'ball moss', '33': 'love in the mist', '9': 'monkshood', '102': 'blackberry lily', '14': 'spear thistle', '19': 'balloon flower', '100': 'blanket flower', '13': 'king protea', '49': 'oxeye daisy', '15': 'yellow iris', '61': 'cautleya spicata', '31': 'carnation', '64': 'silverbush', '68': 'bearded iris', '63': 'black-eyed susan', '69': 'windflower', '62': 'japanese anemone', '20': 'giant white arum lily', '38': 'great masterwort', '4': 'sweet pea', '86': 'tree mallow', '101': 'trumpet creeper', '42': 'daffodil', '22': 'pincushion flower', '2': 'hard-leaved pocket orchid', '54': 'sunflower', '66': 'osteospermum', '70': 'tree poppy', '85': 'desert-rose', '99': 'bromelia', '87': 'magnolia', '5': 'english marigold', '92': 'bee balm', '28': 'stemless gentian', '97': 'mallow', '57': 'gaura', '40': 'lenten rose', '47': 'marigold', '59': 'orange dahlia', '48': 'buttercup', '55': 'pelargonium', '36': 'ruby-lipped cattleya', '91': 'hippeastrum', '29': 'artichoke', '71': 'gazania', '90': 'canna lily', '18': 'peruvian lily', '98': 'mexican petunia', '8': 'bird of paradise', '30': 'sweet william', '17': 'purple coneflower', '52': 'wild pansy', '84': 'columbine', '12': \"colt's foot\", '11': 'snapdragon', '96': 'camellia', '23': 'fritillary', '50': 'common dandelion', '44': 'poinsettia', '53': 'primula', '72': 'azalea', '65': 'californian poppy', '80': 'anthurium', '76': 'morning glory', '37': 'cape flower', '56': 'bishop of llandaff', '60': 'pink-yellow dahlia', '82': 'clematis', '58': 'geranium', '75': 'thorn apple', '41': 'barbeton daisy', '95': 'bougainvillea', '43': 'sword lily', '83': 'hibiscus', '78': 'lotus lotus', '88': 'cyclamen', '94': 'foxglove', '81': 'frangipani', '74': 'rose', '89': 'watercress', '73': 'water lily', '46': 'wallflower', '77': 'passion flower', '51': 'petunia'}\n"
     ]
    }
   ],
   "source": [
    "print(cat_to_name)"
   ]
  },
  {
   "cell_type": "markdown",
   "metadata": {},
   "source": [
    "# Building and training the classifier\n",
    "\n",
    "Now that the data is ready, it's time to build and train the classifier. As usual, you should use one of the pretrained models from `torchvision.models` to get the image features. Build and train a new feed-forward classifier using those features.\n",
    "\n",
    "We're going to leave this part up to you. Refer to [the rubric](https://review.udacity.com/#!/rubrics/1663/view) for guidance on successfully completing this section. Things you'll need to do:\n",
    "\n",
    "* Load a [pre-trained network](http://pytorch.org/docs/master/torchvision/models.html) (If you need a starting point, the VGG networks work great and are straightforward to use)\n",
    "* Define a new, untrained feed-forward network as a classifier, using ReLU activations and dropout\n",
    "* Train the classifier layers using backpropagation using the pre-trained network to get the features\n",
    "* Track the loss and accuracy on the validation set to determine the best hyperparameters\n",
    "\n",
    "We've left a cell open for you below, but use as many as you need. Our advice is to break the problem up into smaller parts you can run separately. Check that each part is doing what you expect, then move on to the next. You'll likely find that as you work through each part, you'll need to go back and modify your previous code. This is totally normal!\n",
    "\n",
    "When training make sure you're updating only the weights of the feed-forward network. You should be able to get the validation accuracy above 70% if you build everything right. Make sure to try different hyperparameters (learning rate, units in the classifier, epochs, etc) to find the best model. Save those hyperparameters to use as default values in the next part of the project.\n",
    "\n",
    "One last important tip if you're using the workspace to run your code: To avoid having your workspace disconnect during the long-running tasks in this notebook, please read in the earlier page in this lesson called Intro to\n",
    "GPU Workspaces about Keeping Your Session Active. You'll want to include code from the workspace_utils.py module.\n",
    "\n",
    "**Note for Workspace users:** If your network is over 1 GB when saved as a checkpoint, there might be issues with saving backups in your workspace. Typically this happens with wide dense layers after the convolutional layers. If your saved checkpoint is larger than 1 GB (you can open a terminal and check with `ls -lh`), you should reduce the size of your hidden layers and train again."
   ]
  },
  {
   "cell_type": "code",
   "execution_count": 6,
   "metadata": {},
   "outputs": [
    {
     "name": "stderr",
     "output_type": "stream",
     "text": [
      "Downloading: \"https://download.pytorch.org/models/vgg16-397923af.pth\" to /root/.torch/models/vgg16-397923af.pth\n",
      "100%|██████████| 553433881/553433881 [00:14<00:00, 38175002.09it/s]\n"
     ]
    }
   ],
   "source": [
    "# TODO: Build and train your network\n",
    "#load pre-trained model\n",
    "model=torchvision.models.vgg16(pretrained=True)\n"
   ]
  },
  {
   "cell_type": "code",
   "execution_count": null,
   "metadata": {},
   "outputs": [],
   "source": [
    "model"
   ]
  },
  {
   "cell_type": "code",
   "execution_count": 7,
   "metadata": {},
   "outputs": [],
   "source": [
    "#transfer learning, fix pretrained parameters\n",
    "for param in model.parameters():\n",
    "    param.requires_grad=False"
   ]
  },
  {
   "cell_type": "code",
   "execution_count": 8,
   "metadata": {},
   "outputs": [],
   "source": [
    "#define the last classification layer\n",
    "out_num_layer=len(cat_to_name)\n",
    "classifier=nn.Sequential(OrderedDict([\n",
    "                         ('fc1', nn.Linear(25088, 1024)),\n",
    "                         ('relu1', nn.LeakyReLU()),\n",
    "                         ('dropout1', nn.Dropout(0.2)),\n",
    "                         ('fc2',nn.Linear(1024,out_num_layer)),\n",
    "                         ('log_softmax_out',nn.LogSoftmax(dim=1))]))\n",
    "\n",
    "model.classifier=classifier"
   ]
  },
  {
   "cell_type": "code",
   "execution_count": null,
   "metadata": {},
   "outputs": [],
   "source": [
    "for param in model.classifier.parameters():\n",
    "    print(param.requires_grad)"
   ]
  },
  {
   "cell_type": "code",
   "execution_count": 9,
   "metadata": {},
   "outputs": [],
   "source": [
    "#define loss function and optimizer\n",
    "model.to('cuda')\n",
    "criterion=nn.NLLLoss()\n",
    "optimizer=optim.Adam(model.classifier.parameters(),lr=0.05)\n"
   ]
  },
  {
   "cell_type": "code",
   "execution_count": null,
   "metadata": {},
   "outputs": [],
   "source": [
    "#train the added classifier\n",
    "\n",
    "epochs=10\n",
    "train_losses, test_losses, accuracies=[],[],[]\n",
    "for e in range(epochs):\n",
    "    train_loss=0\n",
    "    model.train()\n",
    "    for images, labels in train_dataloaders:\n",
    "               \n",
    "        images, labels=images.to('cuda'), labels.to('cuda')\n",
    "        log_ps=model.forward(images)\n",
    "        loss=criterion(log_ps,labels)\n",
    "        #print('loss:', loss)\n",
    "        train_loss+=loss.item()\n",
    "        \n",
    "        #before = list(model.classifier.parameters())\n",
    "        \n",
    "        optimizer.zero_grad()\n",
    "        loss.backward()\n",
    "        #grad=list(model.classifier.parameters())[0].grad\n",
    "        #print('sum_grad:',grad.sum())\n",
    "        optimizer.step()\n",
    "        \n",
    "\n",
    "        #after = list(model.classifier.parameters())\n",
    "        #for i in range(len(before)):\n",
    "            #print(torch.equal(before[i].data, after[i].data))\n",
    "\n",
    "    \n",
    "    model.eval()\n",
    "    test_loss=0\n",
    "    accuracy=0\n",
    "    with torch.no_grad():\n",
    "        for images, labels in test_dataloaders:\n",
    "            images, labels=images.to('cuda'), labels.to('cuda')\n",
    "            log_ps=model.forward(images)\n",
    "            loss=criterion(log_ps, labels)\n",
    "            test_loss+=loss.item()\n",
    "\n",
    "            ps=torch.exp(log_ps)\n",
    "            _,top_class=ps.topk(1,dim=1)\n",
    "            equals=top_class.view(labels.shape)==labels\n",
    "            accuracy+=torch.mean(equals.type(torch.FloatTensor))\n",
    "    \n",
    "    train_losses.append(train_loss/len(train_dataloaders))\n",
    "    test_losses.append(test_loss/len(test_dataloaders))\n",
    "    accuracies.append(accuracy/len(test_dataloaders))\n",
    "    print(\"trained: {}/{}..\".format(e+1,epochs),\n",
    "          \"train loss: {:.3f}..\".format(train_loss/len(train_dataloaders)),\n",
    "          \"test loss: {:.3f}..\".format(test_loss/len(test_dataloaders)),\n",
    "          \"accuracy: {:.3f}..\".format(accuracy/len(test_dataloaders))\n",
    "    )\n",
    "        "
   ]
  },
  {
   "cell_type": "code",
   "execution_count": 10,
   "metadata": {},
   "outputs": [
    {
     "name": "stderr",
     "output_type": "stream",
     "text": [
      "/opt/conda/lib/python3.6/site-packages/ipykernel_launcher.py:21: UserWarning: invalid index of a 0-dim tensor. This will be an error in PyTorch 0.5. Use tensor.item() to convert a 0-dim tensor to a Python number\n",
      "/opt/conda/lib/python3.6/site-packages/ipykernel_launcher.py:35: UserWarning: invalid index of a 0-dim tensor. This will be an error in PyTorch 0.5. Use tensor.item() to convert a 0-dim tensor to a Python number\n"
     ]
    },
    {
     "name": "stdout",
     "output_type": "stream",
     "text": [
      "Epoch: 1/5..  Training Loss: 782.575..  Validation Loss: 449.357..  Validation Accuracy: 0.212\n",
      "Epoch: 2/5..  Training Loss: 324.739..  Validation Loss: 387.754..  Validation Accuracy: 0.277\n",
      "Epoch: 2/5..  Training Loss: 260.175..  Validation Loss: 296.357..  Validation Accuracy: 0.287\n",
      "Epoch: 3/5..  Training Loss: 223.009..  Validation Loss: 393.370..  Validation Accuracy: 0.278\n",
      "Epoch: 3/5..  Training Loss: 258.165..  Validation Loss: 469.683..  Validation Accuracy: 0.326\n",
      "Epoch: 4/5..  Training Loss: 348.085..  Validation Loss: 514.816..  Validation Accuracy: 0.384\n",
      "Epoch: 5/5..  Training Loss: 435.063..  Validation Loss: 882.664..  Validation Accuracy: 0.366\n",
      "Epoch: 5/5..  Training Loss: 442.889..  Validation Loss: 879.363..  Validation Accuracy: 0.361\n"
     ]
    }
   ],
   "source": [
    "epochs = 5\n",
    "steps = 0\n",
    "running_loss = 0\n",
    "print_every = 60\n",
    "for e in range(epochs):\n",
    "    # Model in training mode, dropout is on\n",
    "    model.train()\n",
    "    for inputs, labels in iter(train_dataloaders):\n",
    "        steps += 1\n",
    "        optimizer.zero_grad()\n",
    "        \n",
    "        #start = time.time()\n",
    "        \n",
    "        inputs, labels = inputs.cuda(), labels.cuda()\n",
    "        \n",
    "        output = model.forward(inputs)\n",
    "        loss = criterion(output, labels)\n",
    "        loss.backward()\n",
    "        optimizer.step()\n",
    "        \n",
    "        running_loss += loss.data[0]\n",
    "        \n",
    "        #print(f\"Time per batch: {(time.time() - start)/3:.3f} seconds\")\n",
    "        \n",
    "        if steps % print_every == 0:\n",
    "            # Model in inference mode, dropout is off\n",
    "            model.eval()\n",
    "            \n",
    "            accuracy = 0\n",
    "            test_loss = 0\n",
    "            for ii, (inputs, labels) in enumerate(valid_dataloaders):\n",
    "                \n",
    "                inputs, labels = inputs.cuda(), labels.cuda()\n",
    "                output = model.forward(inputs)\n",
    "                test_loss += criterion(output, labels).data[0]\n",
    "                \n",
    "                ## Calculating the accuracy \n",
    "                # Model's output is log-softmax, take exponential to get the probabilities\n",
    "                ps = torch.exp(output).data\n",
    "                # Class with highest probability is our predicted class, compare with true label\n",
    "                equality = (labels.data == ps.max(1)[1])\n",
    "                # Accuracy is number of correct predictions divided by all predictions, just take the mean\n",
    "                accuracy += equality.type_as(torch.FloatTensor()).mean()\n",
    "            \n",
    "            print(\"Epoch: {}/{}.. \".format(e+1, epochs),\n",
    "                  \"Training Loss: {:.3f}.. \".format(running_loss/print_every),\n",
    "                  \"Validation Loss: {:.3f}.. \".format(test_loss/len(valid_dataloaders)),\n",
    "                  \"Validation Accuracy: {:.3f}\".format(accuracy/len(valid_dataloaders)))\n",
    "            \n",
    "            running_loss = 0\n",
    "            \n",
    "            # Make sure dropout is on for training\n",
    "            model.train()\n"
   ]
  },
  {
   "cell_type": "code",
   "execution_count": 11,
   "metadata": {},
   "outputs": [
    {
     "name": "stderr",
     "output_type": "stream",
     "text": [
      "/opt/conda/lib/python3.6/site-packages/ipykernel_launcher.py:21: UserWarning: invalid index of a 0-dim tensor. This will be an error in PyTorch 0.5. Use tensor.item() to convert a 0-dim tensor to a Python number\n",
      "/opt/conda/lib/python3.6/site-packages/ipykernel_launcher.py:35: UserWarning: invalid index of a 0-dim tensor. This will be an error in PyTorch 0.5. Use tensor.item() to convert a 0-dim tensor to a Python number\n"
     ]
    },
    {
     "name": "stdout",
     "output_type": "stream",
     "text": [
      "Epoch: 7/15..  Training Loss: 444.338..  Validation Loss: 1052.101..  Validation Accuracy: 0.381\n",
      "Epoch: 8/15..  Training Loss: 497.901..  Validation Loss: 1173.994..  Validation Accuracy: 0.382\n",
      "Epoch: 8/15..  Training Loss: 495.644..  Validation Loss: 1276.395..  Validation Accuracy: 0.423\n",
      "Epoch: 9/15..  Training Loss: 570.850..  Validation Loss: 1307.912..  Validation Accuracy: 0.454\n",
      "Epoch: 9/15..  Training Loss: 550.523..  Validation Loss: 1377.529..  Validation Accuracy: 0.450\n",
      "Epoch: 10/15..  Training Loss: 485.315..  Validation Loss: 1309.564..  Validation Accuracy: 0.484\n",
      "Epoch: 11/15..  Training Loss: 478.552..  Validation Loss: 1435.928..  Validation Accuracy: 0.470\n",
      "Epoch: 11/15..  Training Loss: 489.495..  Validation Loss: 1732.964..  Validation Accuracy: 0.483\n",
      "Epoch: 12/15..  Training Loss: 511.603..  Validation Loss: 1648.591..  Validation Accuracy: 0.462\n",
      "Epoch: 12/15..  Training Loss: 516.869..  Validation Loss: 1997.049..  Validation Accuracy: 0.454\n",
      "Epoch: 13/15..  Training Loss: 585.034..  Validation Loss: 1973.561..  Validation Accuracy: 0.482\n",
      "Epoch: 13/15..  Training Loss: 482.900..  Validation Loss: 1612.394..  Validation Accuracy: 0.530\n",
      "Epoch: 14/15..  Training Loss: 544.796..  Validation Loss: 2045.637..  Validation Accuracy: 0.514\n",
      "Epoch: 15/15..  Training Loss: 524.497..  Validation Loss: 1915.602..  Validation Accuracy: 0.511\n",
      "Epoch: 15/15..  Training Loss: 523.843..  Validation Loss: 2231.141..  Validation Accuracy: 0.515\n"
     ]
    }
   ],
   "source": [
    "epochs = 15\n",
    "steps = 0\n",
    "running_loss = 0\n",
    "print_every = 60\n",
    "for e in range(6,epochs):\n",
    "    # Model in training mode, dropout is on\n",
    "    model.train()\n",
    "    for inputs, labels in iter(train_dataloaders):\n",
    "        steps += 1\n",
    "        optimizer.zero_grad()\n",
    "        \n",
    "        #start = time.time()\n",
    "        \n",
    "        inputs, labels = inputs.cuda(), labels.cuda()\n",
    "        \n",
    "        output = model.forward(inputs)\n",
    "        loss = criterion(output, labels)\n",
    "        loss.backward()\n",
    "        optimizer.step()\n",
    "        \n",
    "        running_loss += loss.data[0]\n",
    "        \n",
    "        #print(f\"Time per batch: {(time.time() - start)/3:.3f} seconds\")\n",
    "        \n",
    "        if steps % print_every == 0:\n",
    "            # Model in inference mode, dropout is off\n",
    "            model.eval()\n",
    "            \n",
    "            accuracy = 0\n",
    "            test_loss = 0\n",
    "            for ii, (inputs, labels) in enumerate(valid_dataloaders):\n",
    "                \n",
    "                inputs, labels = inputs.cuda(), labels.cuda()\n",
    "                output = model.forward(inputs)\n",
    "                test_loss += criterion(output, labels).data[0]\n",
    "                \n",
    "                ## Calculating the accuracy \n",
    "                # Model's output is log-softmax, take exponential to get the probabilities\n",
    "                ps = torch.exp(output).data\n",
    "                # Class with highest probability is our predicted class, compare with true label\n",
    "                equality = (labels.data == ps.max(1)[1])\n",
    "                # Accuracy is number of correct predictions divided by all predictions, just take the mean\n",
    "                accuracy += equality.type_as(torch.FloatTensor()).mean()\n",
    "            \n",
    "            print(\"Epoch: {}/{}.. \".format(e+1, epochs),\n",
    "                  \"Training Loss: {:.3f}.. \".format(running_loss/print_every),\n",
    "                  \"Validation Loss: {:.3f}.. \".format(test_loss/len(valid_dataloaders)),\n",
    "                  \"Validation Accuracy: {:.3f}\".format(accuracy/len(valid_dataloaders)))\n",
    "            \n",
    "            running_loss = 0\n",
    "            \n",
    "            # Make sure dropout is on for training\n",
    "            model.train()\n"
   ]
  },
  {
   "cell_type": "code",
   "execution_count": 12,
   "metadata": {},
   "outputs": [
    {
     "name": "stderr",
     "output_type": "stream",
     "text": [
      "/opt/conda/lib/python3.6/site-packages/ipykernel_launcher.py:21: UserWarning: invalid index of a 0-dim tensor. This will be an error in PyTorch 0.5. Use tensor.item() to convert a 0-dim tensor to a Python number\n",
      "/opt/conda/lib/python3.6/site-packages/ipykernel_launcher.py:35: UserWarning: invalid index of a 0-dim tensor. This will be an error in PyTorch 0.5. Use tensor.item() to convert a 0-dim tensor to a Python number\n"
     ]
    },
    {
     "name": "stdout",
     "output_type": "stream",
     "text": [
      "Epoch: 16/35..  Training Loss: 533.617..  Validation Loss: 3751.440..  Validation Accuracy: 0.468\n",
      "Epoch: 17/35..  Training Loss: 558.985..  Validation Loss: 2643.935..  Validation Accuracy: 0.516\n",
      "Epoch: 17/35..  Training Loss: 541.130..  Validation Loss: 2511.690..  Validation Accuracy: 0.540\n",
      "Epoch: 18/35..  Training Loss: 611.335..  Validation Loss: 2741.657..  Validation Accuracy: 0.556\n",
      "Epoch: 18/35..  Training Loss: 532.676..  Validation Loss: 3106.324..  Validation Accuracy: 0.500\n",
      "Epoch: 19/35..  Training Loss: 580.086..  Validation Loss: 3347.549..  Validation Accuracy: 0.544\n",
      "Epoch: 20/35..  Training Loss: 619.126..  Validation Loss: 3127.115..  Validation Accuracy: 0.531\n",
      "Epoch: 20/35..  Training Loss: 506.403..  Validation Loss: 3325.209..  Validation Accuracy: 0.506\n",
      "Epoch: 21/35..  Training Loss: 544.771..  Validation Loss: 3045.160..  Validation Accuracy: 0.563\n",
      "Epoch: 21/35..  Training Loss: 528.818..  Validation Loss: 2551.308..  Validation Accuracy: 0.564\n",
      "Epoch: 22/35..  Training Loss: 517.503..  Validation Loss: 3535.575..  Validation Accuracy: 0.517\n",
      "Epoch: 22/35..  Training Loss: 519.445..  Validation Loss: 3335.875..  Validation Accuracy: 0.572\n",
      "Epoch: 23/35..  Training Loss: 449.952..  Validation Loss: 3495.002..  Validation Accuracy: 0.547\n",
      "Epoch: 24/35..  Training Loss: 523.862..  Validation Loss: 3075.980..  Validation Accuracy: 0.586\n",
      "Epoch: 24/35..  Training Loss: 481.196..  Validation Loss: 2952.086..  Validation Accuracy: 0.607\n",
      "Epoch: 25/35..  Training Loss: 445.543..  Validation Loss: 3555.983..  Validation Accuracy: 0.553\n",
      "Epoch: 25/35..  Training Loss: 472.942..  Validation Loss: 2826.508..  Validation Accuracy: 0.616\n",
      "Epoch: 26/35..  Training Loss: 409.352..  Validation Loss: 3807.386..  Validation Accuracy: 0.570\n",
      "Epoch: 27/35..  Training Loss: 406.096..  Validation Loss: 3439.668..  Validation Accuracy: 0.577\n"
     ]
    },
    {
     "ename": "KeyboardInterrupt",
     "evalue": "",
     "output_type": "error",
     "traceback": [
      "\u001b[0;31m---------------------------------------------------------------------------\u001b[0m",
      "\u001b[0;31mKeyboardInterrupt\u001b[0m                         Traceback (most recent call last)",
      "\u001b[0;32m<ipython-input-12-bbc3f298f0bf>\u001b[0m in \u001b[0;36m<module>\u001b[0;34m()\u001b[0m\n\u001b[1;32m     41\u001b[0m                 \u001b[0mequality\u001b[0m \u001b[0;34m=\u001b[0m \u001b[0;34m(\u001b[0m\u001b[0mlabels\u001b[0m\u001b[0;34m.\u001b[0m\u001b[0mdata\u001b[0m \u001b[0;34m==\u001b[0m \u001b[0mps\u001b[0m\u001b[0;34m.\u001b[0m\u001b[0mmax\u001b[0m\u001b[0;34m(\u001b[0m\u001b[0;36m1\u001b[0m\u001b[0;34m)\u001b[0m\u001b[0;34m[\u001b[0m\u001b[0;36m1\u001b[0m\u001b[0;34m]\u001b[0m\u001b[0;34m)\u001b[0m\u001b[0;34m\u001b[0m\u001b[0m\n\u001b[1;32m     42\u001b[0m                 \u001b[0;31m# Accuracy is number of correct predictions divided by all predictions, just take the mean\u001b[0m\u001b[0;34m\u001b[0m\u001b[0;34m\u001b[0m\u001b[0m\n\u001b[0;32m---> 43\u001b[0;31m                 \u001b[0maccuracy\u001b[0m \u001b[0;34m+=\u001b[0m \u001b[0mequality\u001b[0m\u001b[0;34m.\u001b[0m\u001b[0mtype_as\u001b[0m\u001b[0;34m(\u001b[0m\u001b[0mtorch\u001b[0m\u001b[0;34m.\u001b[0m\u001b[0mFloatTensor\u001b[0m\u001b[0;34m(\u001b[0m\u001b[0;34m)\u001b[0m\u001b[0;34m)\u001b[0m\u001b[0;34m.\u001b[0m\u001b[0mmean\u001b[0m\u001b[0;34m(\u001b[0m\u001b[0;34m)\u001b[0m\u001b[0;34m\u001b[0m\u001b[0m\n\u001b[0m\u001b[1;32m     44\u001b[0m \u001b[0;34m\u001b[0m\u001b[0m\n\u001b[1;32m     45\u001b[0m             print(\"Epoch: {}/{}.. \".format(e+1, epochs),\n",
      "\u001b[0;31mKeyboardInterrupt\u001b[0m: "
     ]
    }
   ],
   "source": [
    "epochs = 35\n",
    "steps = 0\n",
    "running_loss = 0\n",
    "print_every = 60\n",
    "for e in range(15,epochs):\n",
    "    # Model in training mode, dropout is on\n",
    "    model.train()\n",
    "    for inputs, labels in iter(train_dataloaders):\n",
    "        steps += 1\n",
    "        optimizer.zero_grad()\n",
    "        \n",
    "        #start = time.time()\n",
    "        \n",
    "        inputs, labels = inputs.cuda(), labels.cuda()\n",
    "        \n",
    "        output = model.forward(inputs)\n",
    "        loss = criterion(output, labels)\n",
    "        loss.backward()\n",
    "        optimizer.step()\n",
    "        \n",
    "        running_loss += loss.data[0]\n",
    "        \n",
    "        #print(f\"Time per batch: {(time.time() - start)/3:.3f} seconds\")\n",
    "        \n",
    "        if steps % print_every == 0:\n",
    "            # Model in inference mode, dropout is off\n",
    "            model.eval()\n",
    "            \n",
    "            accuracy = 0\n",
    "            test_loss = 0\n",
    "            for ii, (inputs, labels) in enumerate(valid_dataloaders):\n",
    "                \n",
    "                inputs, labels = inputs.cuda(), labels.cuda()\n",
    "                output = model.forward(inputs)\n",
    "                test_loss += criterion(output, labels).data[0]\n",
    "                \n",
    "                ## Calculating the accuracy \n",
    "                # Model's output is log-softmax, take exponential to get the probabilities\n",
    "                ps = torch.exp(output).data\n",
    "                # Class with highest probability is our predicted class, compare with true label\n",
    "                equality = (labels.data == ps.max(1)[1])\n",
    "                # Accuracy is number of correct predictions divided by all predictions, just take the mean\n",
    "                accuracy += equality.type_as(torch.FloatTensor()).mean()\n",
    "            \n",
    "            print(\"Epoch: {}/{}.. \".format(e+1, epochs),\n",
    "                  \"Training Loss: {:.3f}.. \".format(running_loss/print_every),\n",
    "                  \"Validation Loss: {:.3f}.. \".format(test_loss/len(valid_dataloaders)),\n",
    "                  \"Validation Accuracy: {:.3f}\".format(accuracy/len(valid_dataloaders)))\n",
    "            \n",
    "            running_loss = 0\n",
    "            \n",
    "            # Make sure dropout is on for training\n",
    "            model.train()\n"
   ]
  },
  {
   "cell_type": "code",
   "execution_count": null,
   "metadata": {},
   "outputs": [],
   "source": [
    "\n",
    "# TODO: Build and train your network\n",
    "\n",
    "'''\n",
    "Decided to use the VGG-11 pretrained model as this had\n",
    "fewer layers (11) compared to other models and should \n",
    "therefore have quicker training times\n",
    "'''\n",
    "model = torchvision.models.vgg11(pretrained=True)\n",
    "model"
   ]
  },
  {
   "cell_type": "code",
   "execution_count": null,
   "metadata": {},
   "outputs": [],
   "source": [
    "# Weights of pretrained model are frozen so we don't backprop through/update them\n",
    "for param in model.parameters():\n",
    "    param.requires_grad = False\n",
    "    \n",
    "'''\n",
    "Changing the number of inputs of the first layer to match the \n",
    "number of input features of the pretrained model and changing \n",
    "the output of the classifier to match the number of classes in \n",
    "this data set:\n",
    "'''\n",
    "\n",
    "classifier = nn.Sequential(OrderedDict([\n",
    "                          ('fc1', nn.Linear(25088, 500)),\n",
    "                          ('relu', nn.ReLU()),\n",
    "                          ('dropout1', nn.Dropout(0.05)),\n",
    "                          ('fc2', nn.Linear(500, 102)),\n",
    "                          ('output', nn.LogSoftmax(dim=1))\n",
    "                          ]))\n",
    "\n",
    "# Replacing the pretrained classifier with the one above\n",
    "model.classifier = classifier"
   ]
  },
  {
   "cell_type": "code",
   "execution_count": null,
   "metadata": {},
   "outputs": [],
   "source": [
    "\n",
    "# TODO: Train a model with a pre-trained network\n",
    "\n",
    "# Recommended to use NLLLoss when using Softmax\n",
    "criterion = nn.NLLLoss()\n",
    "# Using Adam optimiser which makes use of momentum to avoid local minima\n",
    "optimizer = optim.Adam(model.classifier.parameters(), lr=0.0008)"
   ]
  },
  {
   "cell_type": "code",
   "execution_count": null,
   "metadata": {},
   "outputs": [],
   "source": [
    "\n",
    "# Implement a function for the validation pass\n",
    "\n",
    "def validation(model, validloader, criterion):\n",
    "    valid_loss = 0\n",
    "    accuracy = 0\n",
    "    \n",
    "    # change model to work with cuda\n",
    "    model.to('cuda')\n",
    "\n",
    "    # Iterate over data from validloader\n",
    "    for ii, (images, labels) in enumerate(validloader):\n",
    "    \n",
    "        # Change images and labels to work with cuda\n",
    "        images, labels = images.to('cuda'), labels.to('cuda')\n",
    "\n",
    "        # Forward pass image though model for prediction\n",
    "        output = model.forward(images)\n",
    "        # Calculate loss\n",
    "        valid_loss += criterion(output, labels).item()\n",
    "        # Calculate probability\n",
    "        ps = torch.exp(output)\n",
    "        \n",
    "        # Calculate accuracy\n",
    "        equality = (labels.data == ps.max(dim=1)[1])\n",
    "        accuracy += equality.type(torch.FloatTensor).mean()\n",
    "    \n",
    "    return valid_loss, accuracy"
   ]
  },
  {
   "cell_type": "code",
   "execution_count": null,
   "metadata": {},
   "outputs": [],
   "source": [
    "import time"
   ]
  },
  {
   "cell_type": "code",
   "execution_count": null,
   "metadata": {},
   "outputs": [],
   "source": [
    "\n",
    "epochs = 20\n",
    "steps = 0\n",
    "print_every = 40\n",
    "\n",
    "# change to gpu mode\n",
    "model.to('cuda')\n",
    "\n",
    "for e in range(epochs):\n",
    "    since = time.time()\n",
    "    running_loss = 0\n",
    "    \n",
    "    # Iterating over data to carry out training step\n",
    "    for ii, (inputs, labels) in enumerate(train_dataloaders):\n",
    "        steps += 1\n",
    "        \n",
    "        inputs, labels = inputs.to('cuda'), labels.to('cuda')\n",
    "        \n",
    "        # zeroing parameter gradients\n",
    "        optimizer.zero_grad()\n",
    "        \n",
    "        # Forward and backward passes\n",
    "        outputs = model.forward(inputs)\n",
    "        loss = criterion(outputs, labels)\n",
    "        loss.backward()\n",
    "        optimizer.step()\n",
    "        \n",
    "        running_loss += loss.item()\n",
    "        \n",
    "        # Carrying out validation step\n",
    "        if steps % print_every == 0:\n",
    "            # setting model to evaluation mode during validation\n",
    "            model.eval()\n",
    "            \n",
    "            # Gradients are turned off as no longer in training\n",
    "            with torch.no_grad():\n",
    "                valid_loss, accuracy = validation(model, valid_dataloaders, criterion)\n",
    "                \n",
    "            print(f\"No. epochs: {e+1}, \\\n",
    "            Training Loss: {round(running_loss/print_every,3)} \\\n",
    "            Valid Loss: {round(valid_loss/len(valid_dataloaders),3)} \\\n",
    "            Valid Accuracy: {round(float(accuracy/len(valid_dataloaders)),3)}\")\n",
    "            \n",
    "            running_loss = 0\n",
    "            \n",
    "            # Turning training back on\n",
    "            model.train()\n",
    "            \n",
    "    time_taken = time.time() - since\n",
    "    print(f\"Time taken for epoch: {time_taken} seconds\")"
   ]
  },
  {
   "cell_type": "markdown",
   "metadata": {},
   "source": [
    "## Testing your network\n",
    "\n",
    "It's good practice to test your trained network on test data, images the network has never seen either in training or validation. This will give you a good estimate for the model's performance on completely new images. Run the test images through the network and measure the accuracy, the same way you did validation. You should be able to reach around 70% accuracy on the test set if the model has been trained well."
   ]
  },
  {
   "cell_type": "code",
   "execution_count": null,
   "metadata": {},
   "outputs": [],
   "source": [
    "# TODO: Do validation on the test set"
   ]
  },
  {
   "cell_type": "markdown",
   "metadata": {},
   "source": [
    "## Save the checkpoint\n",
    "\n",
    "Now that your network is trained, save the model so you can load it later for making predictions. You probably want to save other things such as the mapping of classes to indices which you get from one of the image datasets: `image_datasets['train'].class_to_idx`. You can attach this to the model as an attribute which makes inference easier later on.\n",
    "\n",
    "```model.class_to_idx = image_datasets['train'].class_to_idx```\n",
    "\n",
    "Remember that you'll want to completely rebuild the model later so you can use it for inference. Make sure to include any information you need in the checkpoint. If you want to load the model and keep training, you'll want to save the number of epochs as well as the optimizer state, `optimizer.state_dict`. You'll likely want to use this trained model in the next part of the project, so best to save it now."
   ]
  },
  {
   "cell_type": "code",
   "execution_count": null,
   "metadata": {},
   "outputs": [],
   "source": [
    "# TODO: Save the checkpoint \n",
    "torch.save({'epoch':e,\n",
    "            'model_state_dict':model.state_dict(),\n",
    "            'optimize_state':optimizer.state_dict(),\n",
    "            'train_loss': train_losses}, 'classifier.pth')"
   ]
  },
  {
   "cell_type": "markdown",
   "metadata": {},
   "source": [
    "## Loading the checkpoint\n",
    "\n",
    "At this point it's good to write a function that can load a checkpoint and rebuild the model. That way you can come back to this project and keep working on it without having to retrain the network."
   ]
  },
  {
   "cell_type": "code",
   "execution_count": null,
   "metadata": {},
   "outputs": [],
   "source": [
    "# TODO: Write a function that loads a checkpoint and rebuilds the model"
   ]
  },
  {
   "cell_type": "markdown",
   "metadata": {},
   "source": [
    "# Inference for classification\n",
    "\n",
    "Now you'll write a function to use a trained network for inference. That is, you'll pass an image into the network and predict the class of the flower in the image. Write a function called `predict` that takes an image and a model, then returns the top $K$ most likely classes along with the probabilities. It should look like \n",
    "\n",
    "```python\n",
    "probs, classes = predict(image_path, model)\n",
    "print(probs)\n",
    "print(classes)\n",
    "> [ 0.01558163  0.01541934  0.01452626  0.01443549  0.01407339]\n",
    "> ['70', '3', '45', '62', '55']\n",
    "```\n",
    "\n",
    "First you'll need to handle processing the input image such that it can be used in your network. \n",
    "\n",
    "## Image Preprocessing\n",
    "\n",
    "You'll want to use `PIL` to load the image ([documentation](https://pillow.readthedocs.io/en/latest/reference/Image.html)). It's best to write a function that preprocesses the image so it can be used as input for the model. This function should process the images in the same manner used for training. \n",
    "\n",
    "First, resize the images where the shortest side is 256 pixels, keeping the aspect ratio. This can be done with the [`thumbnail`](http://pillow.readthedocs.io/en/3.1.x/reference/Image.html#PIL.Image.Image.thumbnail) or [`resize`](http://pillow.readthedocs.io/en/3.1.x/reference/Image.html#PIL.Image.Image.thumbnail) methods. Then you'll need to crop out the center 224x224 portion of the image.\n",
    "\n",
    "Color channels of images are typically encoded as integers 0-255, but the model expected floats 0-1. You'll need to convert the values. It's easiest with a Numpy array, which you can get from a PIL image like so `np_image = np.array(pil_image)`.\n",
    "\n",
    "As before, the network expects the images to be normalized in a specific way. For the means, it's `[0.485, 0.456, 0.406]` and for the standard deviations `[0.229, 0.224, 0.225]`. You'll want to subtract the means from each color channel, then divide by the standard deviation. \n",
    "\n",
    "And finally, PyTorch expects the color channel to be the first dimension but it's the third dimension in the PIL image and Numpy array. You can reorder dimensions using [`ndarray.transpose`](https://docs.scipy.org/doc/numpy-1.13.0/reference/generated/numpy.ndarray.transpose.html). The color channel needs to be first and retain the order of the other two dimensions."
   ]
  },
  {
   "cell_type": "code",
   "execution_count": null,
   "metadata": {},
   "outputs": [],
   "source": [
    "def process_image(image):\n",
    "    ''' Scales, crops, and normalizes a PIL image for a PyTorch model,\n",
    "        returns an Numpy array\n",
    "    '''\n",
    "\n",
    "    # TODO: Process a PIL image for use in a PyTorch model"
   ]
  },
  {
   "cell_type": "markdown",
   "metadata": {},
   "source": [
    "To check your work, the function below converts a PyTorch tensor and displays it in the notebook. If your `process_image` function works, running the output through this function should return the original image (except for the cropped out portions)."
   ]
  },
  {
   "cell_type": "code",
   "execution_count": null,
   "metadata": {},
   "outputs": [],
   "source": [
    "def imshow(image, ax=None, title=None):\n",
    "    \"\"\"Imshow for Tensor.\"\"\"\n",
    "    if ax is None:\n",
    "        fig, ax = plt.subplots()\n",
    "    \n",
    "    # PyTorch tensors assume the color channel is the first dimension\n",
    "    # but matplotlib assumes is the third dimension\n",
    "    image = image.numpy().transpose((1, 2, 0))\n",
    "    \n",
    "    # Undo preprocessing\n",
    "    mean = np.array([0.485, 0.456, 0.406])\n",
    "    std = np.array([0.229, 0.224, 0.225])\n",
    "    image = std * image + mean\n",
    "    \n",
    "    # Image needs to be clipped between 0 and 1 or it looks like noise when displayed\n",
    "    image = np.clip(image, 0, 1)\n",
    "    \n",
    "    ax.imshow(image)\n",
    "    \n",
    "    return ax"
   ]
  },
  {
   "cell_type": "markdown",
   "metadata": {},
   "source": [
    "## Class Prediction\n",
    "\n",
    "Once you can get images in the correct format, it's time to write a function for making predictions with your model. A common practice is to predict the top 5 or so (usually called top-$K$) most probable classes. You'll want to calculate the class probabilities then find the $K$ largest values.\n",
    "\n",
    "To get the top $K$ largest values in a tensor use [`x.topk(k)`](http://pytorch.org/docs/master/torch.html#torch.topk). This method returns both the highest `k` probabilities and the indices of those probabilities corresponding to the classes. You need to convert from these indices to the actual class labels using `class_to_idx` which hopefully you added to the model or from an `ImageFolder` you used to load the data ([see here](#Save-the-checkpoint)). Make sure to invert the dictionary so you get a mapping from index to class as well.\n",
    "\n",
    "Again, this method should take a path to an image and a model checkpoint, then return the probabilities and classes.\n",
    "\n",
    "```python\n",
    "probs, classes = predict(image_path, model)\n",
    "print(probs)\n",
    "print(classes)\n",
    "> [ 0.01558163  0.01541934  0.01452626  0.01443549  0.01407339]\n",
    "> ['70', '3', '45', '62', '55']\n",
    "```"
   ]
  },
  {
   "cell_type": "code",
   "execution_count": null,
   "metadata": {},
   "outputs": [],
   "source": [
    "def predict(image_path, model, topk=5):\n",
    "    ''' Predict the class (or classes) of an image using a trained deep learning model.\n",
    "    '''\n",
    "    \n",
    "    # TODO: Implement the code to predict the class from an image file"
   ]
  },
  {
   "cell_type": "markdown",
   "metadata": {},
   "source": [
    "## Sanity Checking\n",
    "\n",
    "Now that you can use a trained model for predictions, check to make sure it makes sense. Even if the testing accuracy is high, it's always good to check that there aren't obvious bugs. Use `matplotlib` to plot the probabilities for the top 5 classes as a bar graph, along with the input image. It should look like this:\n",
    "\n",
    "<img src='assets/inference_example.png' width=300px>\n",
    "\n",
    "You can convert from the class integer encoding to actual flower names with the `cat_to_name.json` file (should have been loaded earlier in the notebook). To show a PyTorch tensor as an image, use the `imshow` function defined above."
   ]
  },
  {
   "cell_type": "code",
   "execution_count": null,
   "metadata": {},
   "outputs": [],
   "source": [
    "# TODO: Display an image along with the top 5 classes"
   ]
  }
 ],
 "metadata": {
  "kernelspec": {
   "display_name": "Python 3",
   "language": "python",
   "name": "python3"
  },
  "language_info": {
   "codemirror_mode": {
    "name": "ipython",
    "version": 3
   },
   "file_extension": ".py",
   "mimetype": "text/x-python",
   "name": "python",
   "nbconvert_exporter": "python",
   "pygments_lexer": "ipython3",
   "version": "3.6.3"
  }
 },
 "nbformat": 4,
 "nbformat_minor": 2
}
